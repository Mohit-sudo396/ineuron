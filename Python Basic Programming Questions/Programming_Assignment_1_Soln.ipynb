{
 "metadata": {
  "language_info": {
   "codemirror_mode": {
    "name": "ipython",
    "version": 3
   },
   "file_extension": ".py",
   "mimetype": "text/x-python",
   "name": "python",
   "nbconvert_exporter": "python",
   "pygments_lexer": "ipython3",
   "version": "3.9.5"
  },
  "orig_nbformat": 4,
  "kernelspec": {
   "name": "python3",
   "display_name": "Python 3.9.5 64-bit"
  },
  "interpreter": {
   "hash": "63fd5069d213b44bf678585dea6b12cceca9941eaf7f819626cde1f2670de90d"
  }
 },
 "nbformat": 4,
 "nbformat_minor": 2,
 "cells": [
  {
   "cell_type": "code",
   "execution_count": 1,
   "metadata": {},
   "outputs": [
    {
     "output_type": "stream",
     "name": "stdout",
     "text": [
      "Hello Python\n"
     ]
    }
   ],
   "source": [
    "#1.\tWrite a Python program to print \"Hello Python\"\n",
    "\n",
    "print(\"Hello Python\")"
   ]
  },
  {
   "cell_type": "code",
   "execution_count": 2,
   "metadata": {},
   "outputs": [
    {
     "output_type": "stream",
     "name": "stdout",
     "text": [
      "The sum is: 8\nThe quotient is: 3.0\n"
     ]
    }
   ],
   "source": [
    "#2.\tWrite a Python program to do arithmetical operations addition and division.?\n",
    "\n",
    "a = int(input(\"Enter the first value\"))\n",
    "b = int(input(\"Enter the second value\"))\n",
    "c = a + b\n",
    "d = a / b\n",
    "print(\"The sum is:\" ,c)\n",
    "print(\"The quotient is:\" ,d)"
   ]
  },
  {
   "cell_type": "code",
   "execution_count": 2,
   "metadata": {},
   "outputs": [
    {
     "output_type": "stream",
     "name": "stdout",
     "text": [
      "The area of the triangle is %0.2f 9.921567416492215\n"
     ]
    }
   ],
   "source": [
    "#3.\tWrite a Python program to find the area of a triangle?\n",
    "\n",
    "a = float(input(\"Enter the first side:\"))\n",
    "b = float(input(\"Enter the second side:\"))\n",
    "c = float(input(\"Enter the third side:\"))\n",
    "s = (a + b + c)/2\n",
    "area =  (s*(s-a)*(s-b)*(s-c)) **0.5\n",
    "print(\"The area of the triangle is %0.2f\",area)"
   ]
  },
  {
   "cell_type": "code",
   "execution_count": 3,
   "metadata": {},
   "outputs": [
    {
     "output_type": "stream",
     "name": "stdout",
     "text": [
      "The first value is: 5\nThe second value is: 4\nThe new value of a is: 4\nThe new value of b is: 5\n"
     ]
    }
   ],
   "source": [
    "#4.\tWrite a Python program to swap two variables?\n",
    "\n",
    "a = int(input(\"Enter the first value\"))\n",
    "b = int(input(\"Enter the second value\"))\n",
    "#Printing the values\n",
    "print(\"The first value is:\", a)\n",
    "print(\"The second value is:\", b)\n",
    "c = a\n",
    "a = b\n",
    "b = c\n",
    "#Printing swapped values\n",
    "print(\"The new value of a is:\", a)\n",
    "print(\"The new value of b is:\", b)"
   ]
  },
  {
   "cell_type": "code",
   "execution_count": 5,
   "metadata": {},
   "outputs": [
    {
     "output_type": "stream",
     "name": "stdout",
     "text": [
      "28\n"
     ]
    }
   ],
   "source": [
    "#5.\tWrite a Python program to generate a random number?\n",
    "\n",
    "import random\n",
    "\n",
    "a = int(input(\"Enter the first number\"))\n",
    "b = int(input(\"Enter the second number\"))\n",
    "print(random.randint(a,b))"
   ]
  },
  {
   "cell_type": "code",
   "execution_count": null,
   "metadata": {},
   "outputs": [],
   "source": []
  }
 ]
}