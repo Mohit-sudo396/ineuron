{
    "cells": [
        {
            "cell_type": "code",
            "execution_count": null,
            "source": [
                "#1.  Write a Python Program to Find the Factorial of a Number?\n",
                "factorial = 1\n",
                "\n",
                "num = int(input(\"Enter a number\"))\n",
                "\n",
                "if (num < 0):\n",
                "    print(\"Factorial does not exist for negative number\")\n",
                "\n",
                "elif (num == 0):\n",
                "    print(\"Factorial of 0 is 1\")\n",
                "\n",
                "else:\n",
                "    for i in range(1,num + 1):\n",
                "        factorial = factorial * i\n",
                "    print(\"the factorial of\" ,num, \"is\" ,factorial)\n"
            ],
            "outputs": [],
            "metadata": {}
        },
        {
            "cell_type": "code",
            "execution_count": null,
            "source": [
                "#2. Write a Python Program to Display the multiplication Table\n",
                "\n",
                "num = int(input(\"Enter a number\"))\n",
                "\n",
                "for i in range(1,11):\n",
                "    print(num, 'x', i, '=',num * i)"
            ],
            "outputs": [],
            "metadata": {}
        },
        {
            "cell_type": "code",
            "execution_count": null,
            "source": [
                "#3. Write a Python Program to Print the Fibonacci sequence\n",
                "\n",
                "n = int(input(\"Enter the number of terms:\"))\n",
                "\n",
                "n1, n2 = 0 , 1\n",
                "count = 0\n",
                "\n",
                "if (n <= 0):\n",
                "    print(\"enter a positive number\")\n",
                "\n",
                "elif (n == 1):\n",
                "    print(\"Fibonacci series upto\" , n)\n",
                "    print(n1)\n",
                "\n",
                "else:\n",
                "    print(\"Fibonacci Sequence:\")\n",
                "    while count < n:\n",
                "        print(n1)\n",
                "        n3 = n1 + n2\n",
                "\n",
                "        n1 = n2\n",
                "        n2 = n3\n",
                "        count = count + 1"
            ],
            "outputs": [],
            "metadata": {}
        },
        {
            "cell_type": "code",
            "execution_count": null,
            "source": [
                "#4. Write a Python Program to Check Armstrong Number?\n",
                "\n",
                "num = int(input(\"Enter a number:\"))\n",
                "sum = 0\n",
                "\n",
                "temp = num\n",
                "while temp > 0:\n",
                "    digit = temp % 10\n",
                "    sum += digit ** 3\n",
                "    temp //= 10\n",
                "\n",
                "if num == sum:\n",
                "    print(num,\"is an Armstrong number\")\n",
                "else:\n",
                "    print(num,\"is not an Armstrong number\")"
            ],
            "outputs": [],
            "metadata": {}
        },
        {
            "cell_type": "code",
            "execution_count": null,
            "source": [
                "#5. Write a Python Program to Find Armstrong Number in an Interval?\n",
                "\n",
                "lower = int(input(\"Enter the lower value:\"))\n",
                "upper = int(input(\"Enter the upper value:\"))\n",
                "\n",
                "for num in range(lower, upper + 1):\n",
                "\n",
                "    order = len(str(num))\n",
                "\n",
                "    sum = 0\n",
                "\n",
                "    temp = num\n",
                "\n",
                "    while temp > 0:\n",
                "        digit = temp % 10\n",
                "        sum += digit ** order\n",
                "        temp //= 10\n",
                "\n",
                "    if num == sum:\n",
                "        print(num)"
            ],
            "outputs": [],
            "metadata": {}
        },
        {
            "cell_type": "code",
            "execution_count": null,
            "source": [
                "#6. Write a Python Program to Find the Sum of Natural Numbers?\n",
                "\n",
                "num = int(input(\"Enter a number:\"))\n",
                "\n",
                "if num < 0:\n",
                "    print(\"Enter a positive number\")\n",
                "\n",
                "else:\n",
                "    sum = 0\n",
                "    while(num > 0):\n",
                "        sum = sum + num\n",
                "        num -= 1\n",
                "    print(\"the sum is\",sum)"
            ],
            "outputs": [],
            "metadata": {}
        }
    ],
    "metadata": {
        "orig_nbformat": 4,
        "language_info": {
            "name": "python",
            "version": "3.8.10",
            "mimetype": "text/x-python",
            "codemirror_mode": {
                "name": "ipython",
                "version": 3
            },
            "pygments_lexer": "ipython3",
            "nbconvert_exporter": "python",
            "file_extension": ".py"
        },
        "kernelspec": {
            "name": "python3",
            "display_name": "Python 3.8.10 64-bit"
        },
        "interpreter": {
            "hash": "916dbcbb3f70747c44a77c7bcd40155683ae19c65e1c03b4aa3499c5328201f1"
        }
    },
    "nbformat": 4,
    "nbformat_minor": 2
}