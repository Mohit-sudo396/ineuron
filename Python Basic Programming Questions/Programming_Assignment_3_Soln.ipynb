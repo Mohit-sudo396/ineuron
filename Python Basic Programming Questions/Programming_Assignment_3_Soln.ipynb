{
    "cells": [
        {
            "cell_type": "code",
            "execution_count": null,
            "source": [
                "#1 . Write a Python Program to Check if a Number is Positive, Negative or Zero?\n",
                "\n",
                "n = int(input(\"Enter a number\"))\n",
                "if (n > 0):\n",
                "    print(\"Number is positive:\",n)\n",
                "elif (n < 0):\n",
                "    print(\"Number is negative:\",n)\n",
                "elif (n == 0):\n",
                "    print(\"Number is zero:\",n)\n",
                "\n"
            ],
            "outputs": [],
            "metadata": {}
        },
        {
            "cell_type": "code",
            "execution_count": null,
            "source": [
                "#2. Write a Python Program to Check if a Number is Odd or Even?\n",
                "\n",
                "n = int(input(\"Enter a number\"))\n",
                "if (n % 2 == 0):\n",
                "    print(\"Number is even:\",n)\n",
                "else:\n",
                "    print(\"Number is odd:\",n)\n"
            ],
            "outputs": [],
            "metadata": {}
        },
        {
            "cell_type": "code",
            "execution_count": null,
            "source": [
                "#3. Write a Python Program to Check Leap Year?\n",
                "\n",
                "year = int(input(\"Enter the year:\"))\n",
                "if (year / 4 == 0) and (year % 100 == 0):\n",
                "    print(\"The year is leap:\",year)\n",
                "else:\n",
                "    print(\"The year is not leap:\",year)"
            ],
            "outputs": [],
            "metadata": {}
        },
        {
            "cell_type": "code",
            "execution_count": null,
            "source": [
                "#4. Write a Python Program to Check Prime Number?\n",
                "\n",
                "n = int(input(\"Enter a number\"))\n",
                "\n",
                "flag = False\n",
                "\n",
                "if n > 1:\n",
                "    for i in range(2,n):\n",
                "        if(n % i == 0):\n",
                "            flag = True\n",
                "            break\n",
                "\n",
                "if flag:\n",
                "    print(n, \": is not a prime number\")\n",
                "else:\n",
                "    print(n, \": is a prime number\")\n",
                "\n"
            ],
            "outputs": [],
            "metadata": {}
        },
        {
            "cell_type": "code",
            "execution_count": null,
            "source": [
                "#5. Write a Python Program to Print all Prime Numbers in an Interval of 1-10000?\n",
                "\n",
                "\n",
                "a = 1\n",
                "b = 10000\n",
                "\n",
                "print(\"Prime numbers between 1 and 10000 are:\")\n",
                "\n",
                "for n in range(a, b + 1):\n",
                "    if(n > 1):\n",
                "        for i in range(2, n):\n",
                "            if(n % i) == 0:\n",
                "                break\n",
                "        \n",
                "        else:\n",
                "            print(n)"
            ],
            "outputs": [],
            "metadata": {}
        }
    ],
    "metadata": {
        "orig_nbformat": 4,
        "language_info": {
            "name": "python",
            "version": "3.8.10",
            "mimetype": "text/x-python",
            "codemirror_mode": {
                "name": "ipython",
                "version": 3
            },
            "pygments_lexer": "ipython3",
            "nbconvert_exporter": "python",
            "file_extension": ".py"
        },
        "kernelspec": {
            "name": "python3",
            "display_name": "Python 3.8.10 64-bit"
        },
        "interpreter": {
            "hash": "31f2aee4e71d21fbe5cf8b01ff0e069b9275f58929596ceb00d14d90e3e16cd6"
        }
    },
    "nbformat": 4,
    "nbformat_minor": 2
}